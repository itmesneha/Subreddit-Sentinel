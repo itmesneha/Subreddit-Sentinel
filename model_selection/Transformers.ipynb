{
 "cells": [
  {
   "cell_type": "markdown",
   "metadata": {
    "id": "EG1IiGbvjxUE"
   },
   "source": [
    "# Transformers Classification"
   ]
  },
  {
   "cell_type": "markdown",
   "metadata": {
    "id": "d4fkPVN5jxUG"
   },
   "source": [
    "### 1. Setup and Installation"
   ]
  },
  {
   "cell_type": "code",
   "execution_count": null,
   "metadata": {
    "id": "Zk2ibmojjxUG"
   },
   "outputs": [],
   "source": [
    "import numpy as np\n",
    "import pandas as pd\n",
    "import matplotlib.pyplot as plt\n",
    "import seaborn as sns\n",
    "plt.style.use('fivethirtyeight')\n",
    "sns.set_style('darkgrid')"
   ]
  },
  {
   "cell_type": "code",
   "execution_count": null,
   "metadata": {
    "id": "fYfDs3DXjxUG"
   },
   "outputs": [],
   "source": [
    "import torch\n",
    "from torch.utils.data import Dataset, DataLoader\n",
    "from transformers import AutoTokenizer, AutoModelForSequenceClassification, TrainingArguments, Trainer, EarlyStoppingCallback, IntervalStrategy\n",
    "from transformers import DataCollatorWithPadding\n",
    "import evaluate\n",
    "from tqdm.auto import tqdm"
   ]
  },
  {
   "cell_type": "code",
   "execution_count": null,
   "metadata": {
    "id": "ZLdX-p-KjxUH"
   },
   "outputs": [],
   "source": [
    "from sklearn.model_selection import train_test_split\n",
    "from sklearn.metrics import classification_report, confusion_matrix, accuracy_score\n",
    "from sklearn.preprocessing import LabelEncoder"
   ]
  },
  {
   "cell_type": "code",
   "execution_count": null,
   "metadata": {
    "id": "7SdooXt8jxUH"
   },
   "outputs": [],
   "source": [
    "import random\n",
    "import time\n",
    "import os\n",
    "\n",
    "from dotenv import load_dotenv\n",
    "ENV_PATH = os.path.join(os.path.dirname(os.getcwd()), '.env')\n",
    "load_dotenv(ENV_PATH)\n",
    "access_token = os.environ.get(\"ACCESS_TOKEN\")\n",
    "\n",
    "import warnings\n",
    "warnings.filterwarnings('ignore')"
   ]
  },
  {
   "cell_type": "code",
   "execution_count": null,
   "metadata": {
    "id": "LsQsZjEFqGGS"
   },
   "outputs": [],
   "source": [
    "SEED = 42\n",
    "random.seed(SEED)\n",
    "np.random.seed(SEED)\n",
    "torch.manual_seed(SEED)\n",
    "torch.cuda.manual_seed_all(SEED)\n",
    "torch.backends.cudnn.deterministic = True"
   ]
  },
  {
   "cell_type": "code",
   "execution_count": null,
   "metadata": {
    "colab": {
     "base_uri": "https://localhost:8080/"
    },
    "id": "RDARCAzijxUI",
    "outputId": "b4d6afd4-637b-492f-84e5-909932936e4f"
   },
   "outputs": [],
   "source": [
    "device = torch.device(\"cuda\" if torch.cuda.is_available() else \"cpu\")\n",
    "print(f\"Using device: {device}\")"
   ]
  },
  {
   "cell_type": "markdown",
   "metadata": {
    "id": "L0UrbWIGjxUI"
   },
   "source": [
    "### 2. Data Preparation and Splitting"
   ]
  },
  {
   "cell_type": "code",
   "execution_count": null,
   "metadata": {
    "id": "ONqu_KPDjxUI"
   },
   "outputs": [],
   "source": [
    "DATA_PATH = os.path.join(os.path.dirname(os.getcwd()), 'data', 'RHMD_Engineered.csv')\n",
    "df = pd.read_csv(DATA_PATH)"
   ]
  },
  {
   "cell_type": "code",
   "execution_count": null,
   "metadata": {
    "id": "gOx8cJoJqGGT"
   },
   "outputs": [],
   "source": [
    "mentalhealth_df = df[df['subreddit'] == 'mentalhealth'].copy()\n",
    "df = df[df['subreddit'] != 'mentalhealth'].copy()"
   ]
  },
  {
   "cell_type": "code",
   "execution_count": null,
   "metadata": {
    "colab": {
     "base_uri": "https://localhost:8080/"
    },
    "id": "iXyFWDFvqGGT",
    "outputId": "ba954eea-bc4b-4831-95aa-bb2dd6ac1502"
   },
   "outputs": [],
   "source": [
    "print(f\"Number of posts from specific mental health subreddits: {len(df)}\")\n",
    "print(f\"Number of general mentalhealth posts to be classified: {len(mentalhealth_df)}\")"
   ]
  },
  {
   "cell_type": "code",
   "execution_count": null,
   "metadata": {
    "colab": {
     "base_uri": "https://localhost:8080/",
     "height": 595
    },
    "id": "aXYVilBDqGGT",
    "outputId": "3f098f65-e3e8-43d9-e40f-284e26e13a5a"
   },
   "outputs": [],
   "source": [
    "plt.figure(figsize=(10, 6))\n",
    "sns.countplot(y='subreddit', data=df)\n",
    "plt.title('Distribution of Posts Across Specific Mental Health Subreddits')\n",
    "plt.xlabel('Count')\n",
    "plt.ylabel('Subreddit')\n",
    "plt.tight_layout()\n",
    "plt.show()"
   ]
  },
  {
   "cell_type": "code",
   "execution_count": null,
   "metadata": {
    "id": "DoVSXaMVjxUI"
   },
   "outputs": [],
   "source": [
    "df['full_text'] = df['title'] + \" [SEP] \" + df['text']\n",
    "mentalhealth_df['full_text'] = mentalhealth_df['title'] + \" [SEP] \" + mentalhealth_df['text']"
   ]
  },
  {
   "cell_type": "code",
   "execution_count": null,
   "metadata": {
    "id": "MfGfxeKtjxUJ"
   },
   "outputs": [],
   "source": [
    "label_encoder = LabelEncoder()\n",
    "df['label'] = label_encoder.fit_transform(df['subreddit'])"
   ]
  },
  {
   "cell_type": "code",
   "execution_count": null,
   "metadata": {
    "colab": {
     "base_uri": "https://localhost:8080/"
    },
    "id": "cq9wTGSYjxUJ",
    "outputId": "b7577bdb-1ed5-491c-8a88-cd26a58a78ab"
   },
   "outputs": [],
   "source": [
    "for i, subreddit in enumerate(label_encoder.classes_):\n",
    "    print(f\"{subreddit} -> {i}\")"
   ]
  },
  {
   "cell_type": "code",
   "execution_count": null,
   "metadata": {
    "id": "CmsZgqjXjxUJ"
   },
   "outputs": [],
   "source": [
    "train_df, test_df = train_test_split(df, test_size=0.2, random_state=SEED, stratify=df['subreddit'])"
   ]
  },
  {
   "cell_type": "code",
   "execution_count": null,
   "metadata": {
    "colab": {
     "base_uri": "https://localhost:8080/"
    },
    "id": "A2PkJD9hjxUJ",
    "outputId": "d1da25d7-5c40-4e1a-cb01-2b20ae094b90"
   },
   "outputs": [],
   "source": [
    "print(f\"\\nTraining set size: {len(train_df)}\")\n",
    "print(f\"Testing set size: {len(test_df)}\")"
   ]
  },
  {
   "cell_type": "markdown",
   "metadata": {
    "id": "CAUfznRPjxUJ"
   },
   "source": [
    "### 3. Making Dataset Classes for Huggingface Transformers"
   ]
  },
  {
   "cell_type": "code",
   "execution_count": null,
   "metadata": {
    "id": "TtcM0rGvqGGU"
   },
   "outputs": [],
   "source": [
    "class MentalHealthDataset(Dataset):\n",
    "    def __init__(self, dataframe, tokenizer, max_length=512):\n",
    "        self.dataframe = dataframe\n",
    "        self.tokenizer = tokenizer\n",
    "        self.max_length = max_length\n",
    "\n",
    "    def __len__(self):\n",
    "        return len(self.dataframe)\n",
    "\n",
    "    def __getitem__(self, idx):\n",
    "        text = self.dataframe.iloc[idx]['full_text']\n",
    "        label = self.dataframe.iloc[idx]['label'] if 'label' in self.dataframe.columns else 0\n",
    "\n",
    "        encoding = self.tokenizer(\n",
    "            text,\n",
    "            max_length=self.max_length,\n",
    "            padding='max_length',\n",
    "            truncation=True,\n",
    "            return_tensors='pt'\n",
    "        )\n",
    "\n",
    "        encoding = {k: v.squeeze(0) for k, v in encoding.items()}\n",
    "\n",
    "        return {\n",
    "            'input_ids': encoding['input_ids'],\n",
    "            'attention_mask': encoding['attention_mask'],\n",
    "            'labels': torch.tensor(label, dtype=torch.long)\n",
    "        }"
   ]
  },
  {
   "cell_type": "markdown",
   "metadata": {
    "id": "wXHQBnIrqGGU"
   },
   "source": [
    "### 4. Model Training Function"
   ]
  },
  {
   "cell_type": "code",
   "execution_count": null,
   "metadata": {
    "id": "BpvMJsp6qGGU"
   },
   "outputs": [],
   "source": [
    "def train_model(model_name, tokenizer, train_dataset, test_dataset, num_labels):\n",
    "    model = AutoModelForSequenceClassification.from_pretrained(\n",
    "        model_name,\n",
    "        num_labels=num_labels,\n",
    "        ignore_mismatched_sizes=True,\n",
    "        token=access_token\n",
    "    )\n",
    "\n",
    "    # Freeze all parameters\n",
    "    for param in model.parameters():\n",
    "        param.requires_grad = False\n",
    "\n",
    "    # Unfreeze the last transformer layer and classifier\n",
    "    if \"roberta\" in model_name.lower():\n",
    "        for param in model.roberta.encoder.layer[-1].parameters():\n",
    "            param.requires_grad = True\n",
    "    else:\n",
    "        for param in model.bert.encoder.layer[-1].parameters():\n",
    "            param.requires_grad = True\n",
    "\n",
    "    # Unfreeze the classifier\n",
    "    for param in model.classifier.parameters():\n",
    "        param.requires_grad = True\n",
    "\n",
    "    data_collator = DataCollatorWithPadding(tokenizer)\n",
    "\n",
    "    metrics = evaluate.combine([\"precision\", \"recall\", \"f1\"])\n",
    "\n",
    "    def compute_metrics(eval_pred):\n",
    "        predictions, labels = eval_pred\n",
    "        predictions = np.argmax(predictions, axis=1)\n",
    "\n",
    "        return metrics.compute(predictions=predictions, references=labels, average=\"weighted\")\n",
    "\n",
    "    training_args = TrainingArguments(\n",
    "        output_dir=f\"./results_{model_name.replace('/', '-')}\",\n",
    "        eval_steps = 100,\n",
    "        logging_steps=100,\n",
    "        learning_rate=2e-5,\n",
    "        per_device_train_batch_size=16,\n",
    "        per_device_eval_batch_size=16,\n",
    "        save_total_limit = 5,\n",
    "        num_train_epochs=10,\n",
    "        weight_decay=0.01,\n",
    "        evaluation_strategy=IntervalStrategy.STEPS,\n",
    "        load_best_model_at_end=True,\n",
    "        push_to_hub=False,\n",
    "        report_to=\"none\"\n",
    "    )\n",
    "\n",
    "    trainer = Trainer(\n",
    "        model=model,\n",
    "        args=training_args,\n",
    "        train_dataset=train_dataset,\n",
    "        eval_dataset=test_dataset,\n",
    "        tokenizer=tokenizer,\n",
    "        data_collator=data_collator,\n",
    "        compute_metrics=compute_metrics,\n",
    "        callbacks = [EarlyStoppingCallback(early_stopping_patience=7)]\n",
    "    )\n",
    "\n",
    "    trainer.train()\n",
    "    eval_results = trainer.evaluate()\n",
    "\n",
    "    return model, eval_results"
   ]
  },
  {
   "cell_type": "code",
   "execution_count": null,
   "metadata": {
    "id": "eCozAn_u-CIG"
   },
   "outputs": [],
   "source": [
    "def evaluate_model(model, dataset, label_encoder):\n",
    "    model.eval()\n",
    "    model.to(device)\n",
    "\n",
    "    all_preds = []\n",
    "    all_labels = []\n",
    "\n",
    "    dataloader = DataLoader(dataset, batch_size=32, shuffle=False)\n",
    "\n",
    "    with torch.no_grad():\n",
    "        for batch in tqdm(dataloader, desc=\"Evaluating\"):\n",
    "            inputs = {\n",
    "                'input_ids': batch['input_ids'].to(device),\n",
    "                'attention_mask': batch['attention_mask'].to(device)\n",
    "            }\n",
    "            labels = batch['labels'].to(device)\n",
    "\n",
    "            outputs = model(**inputs)\n",
    "            logits = outputs.logits\n",
    "\n",
    "            preds = torch.argmax(logits, dim=-1).cpu().numpy()\n",
    "\n",
    "            all_preds.extend(preds)\n",
    "            all_labels.extend(labels.cpu().numpy())\n",
    "\n",
    "    accuracy = accuracy_score(all_labels, all_preds)\n",
    "\n",
    "    report = classification_report(\n",
    "        all_labels,\n",
    "        all_preds,\n",
    "        target_names=label_encoder.classes_,\n",
    "        digits=4\n",
    "    )\n",
    "\n",
    "    cm = confusion_matrix(all_labels, all_preds)\n",
    "\n",
    "    return accuracy, report, cm, all_preds, all_labels"
   ]
  },
  {
   "cell_type": "markdown",
   "metadata": {
    "id": "mqzO_cCHqGGV"
   },
   "source": [
    "### 5. Train and Evaluate Model: mental/mental-roberta-base"
   ]
  },
  {
   "cell_type": "code",
   "execution_count": null,
   "metadata": {
    "id": "7HVuLITfqGGV"
   },
   "outputs": [],
   "source": [
    "model_name = \"mental/mental-roberta-base\"\n",
    "tokenizer = AutoTokenizer.from_pretrained(model_name, token=access_token)"
   ]
  },
  {
   "cell_type": "code",
   "execution_count": null,
   "metadata": {
    "id": "wtZ01-SvqGGV"
   },
   "outputs": [],
   "source": [
    "train_dataset = MentalHealthDataset(train_df, tokenizer)\n",
    "test_dataset = MentalHealthDataset(test_df, tokenizer)"
   ]
  },
  {
   "cell_type": "code",
   "execution_count": null,
   "metadata": {
    "colab": {
     "base_uri": "https://localhost:8080/",
     "height": 1000
    },
    "id": "-SbC9bplqGGV",
    "outputId": "424cba47-8c4b-4279-9f2f-9c0bba6e23fc"
   },
   "outputs": [],
   "source": [
    "start_time = time.time()\n",
    "roberta_model, roberta_results = train_model(\n",
    "    model_name,\n",
    "    tokenizer,\n",
    "    train_dataset,\n",
    "    test_dataset,\n",
    "    num_labels=len(label_encoder.classes_)\n",
    ")\n",
    "roberta_training_time = time.time() - start_time"
   ]
  },
  {
   "cell_type": "code",
   "execution_count": null,
   "metadata": {
    "colab": {
     "base_uri": "https://localhost:8080/"
    },
    "id": "xAxdF8UL9b7h",
    "outputId": "18ef0c40-e859-4285-9909-32f5b9179371"
   },
   "outputs": [],
   "source": [
    "roberta_training_time = time.time() - start_time\n",
    "print(f\"Training completed in {roberta_training_time:.2f} seconds\")\n",
    "print(f\"Evaluation results: {roberta_results}\")"
   ]
  },
  {
   "cell_type": "code",
   "execution_count": null,
   "metadata": {
    "colab": {
     "base_uri": "https://localhost:8080/",
     "height": 49,
     "referenced_widgets": [
      "e0a4b623ed564d12bfc021b0e56a990d",
      "445b2a670eb04a3cb99b7b9a18953661",
      "8dac2a536c1144bca5e7af51dd65983f",
      "036c39c6e5104846949bc3c71fc092f9",
      "23c005be4ec64ed09e90c5894153d1e9",
      "42975de9cf2e42cfb3d81593c59936bb",
      "c03ad31234584893b0ee9bbc980c67d5",
      "040ceb1413d34ea894b87456ad14a113",
      "5d45f7a8772845d584018fb997b42eaa",
      "d53564b7ff854ffab1ac042c84ed227c",
      "cd75fc1826ff4e21921a1775ac3847e8"
     ]
    },
    "id": "33gv4kPd9b_O",
    "outputId": "08f8a7a1-6b81-47a0-e40b-3b1c8f953786"
   },
   "outputs": [],
   "source": [
    "roberta_accuracy, roberta_report, roberta_cm, roberta_preds, roberta_labels = evaluate_model(\n",
    "    roberta_model,\n",
    "    test_dataset,\n",
    "    label_encoder\n",
    ")"
   ]
  },
  {
   "cell_type": "code",
   "execution_count": null,
   "metadata": {
    "colab": {
     "base_uri": "https://localhost:8080/"
    },
    "id": "ARYtTld_-U0m",
    "outputId": "e89c2c29-d437-4d97-a9ac-a6db113ce50d"
   },
   "outputs": [],
   "source": [
    "print(f\"Accuracy: {roberta_accuracy:.4f}\")"
   ]
  },
  {
   "cell_type": "code",
   "execution_count": null,
   "metadata": {
    "colab": {
     "base_uri": "https://localhost:8080/"
    },
    "id": "4wfbvHx4-U7_",
    "outputId": "c7f098fc-ad07-4922-c6e9-30be8263ac59"
   },
   "outputs": [],
   "source": [
    "print(\"\\nClassification Report:\")\n",
    "print(roberta_report)"
   ]
  },
  {
   "cell_type": "code",
   "execution_count": null,
   "metadata": {
    "colab": {
     "base_uri": "https://localhost:8080/",
     "height": 794
    },
    "id": "U0PaLT2u-VCK",
    "outputId": "44c560b6-ec21-46fc-eb53-0916c4266998"
   },
   "outputs": [],
   "source": [
    "plt.figure(figsize=(10, 8))\n",
    "sns.heatmap(roberta_cm, annot=True, fmt='d', cmap='rocket', xticklabels=label_encoder.classes_, yticklabels=label_encoder.classes_)\n",
    "plt.title('Confusion Matrix - RoBERTa Model')\n",
    "plt.ylabel('True Label')\n",
    "plt.xlabel('Predicted Label')\n",
    "plt.tight_layout()\n",
    "plt.show()"
   ]
  },
  {
   "cell_type": "markdown",
   "metadata": {
    "id": "lntP0cBl_gFh"
   },
   "source": [
    "## 6. Train and Evaluate Model: mental/mental-bert-base-uncased"
   ]
  },
  {
   "cell_type": "code",
   "execution_count": null,
   "metadata": {
    "id": "5sK2HEKC_aQp"
   },
   "outputs": [],
   "source": [
    "model_name = \"mental/mental-bert-base-uncased\"\n",
    "tokenizer = AutoTokenizer.from_pretrained(model_name, token=access_token)"
   ]
  },
  {
   "cell_type": "code",
   "execution_count": null,
   "metadata": {
    "id": "zbcmVsY6_aUO"
   },
   "outputs": [],
   "source": [
    "train_dataset = MentalHealthDataset(train_df, tokenizer)\n",
    "test_dataset = MentalHealthDataset(test_df, tokenizer)"
   ]
  },
  {
   "cell_type": "code",
   "execution_count": null,
   "metadata": {
    "colab": {
     "base_uri": "https://localhost:8080/",
     "height": 1000
    },
    "id": "da1qFIIh_apE",
    "outputId": "6efc8e16-bb79-4190-acd3-bd08cacb752e"
   },
   "outputs": [],
   "source": [
    "start_time = time.time()\n",
    "bert_model, bert_results = train_model(\n",
    "    model_name,\n",
    "    tokenizer,\n",
    "    train_dataset,\n",
    "    test_dataset,\n",
    "    num_labels=len(label_encoder.classes_)\n",
    ")\n",
    "bert_training_time = time.time() - start_time"
   ]
  },
  {
   "cell_type": "code",
   "execution_count": null,
   "metadata": {
    "colab": {
     "base_uri": "https://localhost:8080/"
    },
    "id": "I958P0hwCC46",
    "outputId": "8bc2902a-8e8d-44b9-a0ca-22a5e8074df4"
   },
   "outputs": [],
   "source": [
    "print(f\"Training completed in {bert_training_time:.2f} seconds\")\n",
    "print(f\"Evaluation results: {bert_results}\")"
   ]
  },
  {
   "cell_type": "code",
   "execution_count": null,
   "metadata": {
    "colab": {
     "base_uri": "https://localhost:8080/",
     "height": 49,
     "referenced_widgets": [
      "6dd3305dabae451aa5a73d979c233ad0",
      "4c221d0f27ab470fa03454a6f6d8f0b3",
      "ba2036a07c9c46319d01b9f5ce598cfa",
      "b88a119bc9784403b49823621fdfd718",
      "163b8f3f97ed4ecd94ccc6809b01b479",
      "5b6abbd386424fab8368a9298ed09634",
      "679d7e07accd466d8f715ed7e2d79d1c",
      "5b4ad065070341b380b42b7d2173d8a3",
      "220078a1f38746aebc8e6ccdb9394de1",
      "47b36643e1134b73bd03f4e5ee59e038",
      "0d853a42b01147d295534166689a3d29"
     ]
    },
    "id": "iGvRVe6oCDAZ",
    "outputId": "6ea3597e-46ed-410c-98e0-9aa64e8ac50e"
   },
   "outputs": [],
   "source": [
    "bert_accuracy, bert_report, bert_cm, bert_preds, bert_labels = evaluate_model(bert_model, test_dataset, label_encoder)"
   ]
  },
  {
   "cell_type": "code",
   "execution_count": null,
   "metadata": {
    "colab": {
     "base_uri": "https://localhost:8080/"
    },
    "id": "2kuGBaw_CDGA",
    "outputId": "99ab89b8-9a32-4d84-b848-2d1478c476aa"
   },
   "outputs": [],
   "source": [
    "print(f\"Accuracy: {bert_accuracy:.4f}\")"
   ]
  },
  {
   "cell_type": "code",
   "execution_count": null,
   "metadata": {
    "colab": {
     "base_uri": "https://localhost:8080/"
    },
    "id": "Q_js8-HXCTFV",
    "outputId": "d4dcf910-37dc-4000-ee6a-37d2b420c46a"
   },
   "outputs": [],
   "source": [
    "print(\"\\nClassification Report:\")\n",
    "print(bert_report)"
   ]
  },
  {
   "cell_type": "code",
   "execution_count": null,
   "metadata": {
    "colab": {
     "base_uri": "https://localhost:8080/",
     "height": 794
    },
    "id": "pNvz3-isCTMd",
    "outputId": "359ecd37-c68a-4010-88fc-a984e5b26a29"
   },
   "outputs": [],
   "source": [
    "plt.figure(figsize=(10, 8))\n",
    "sns.heatmap(bert_cm, annot=True, fmt='d', cmap='rocket', xticklabels=label_encoder.classes_, yticklabels=label_encoder.classes_)\n",
    "plt.title('Confusion Matrix - BERT Model')\n",
    "plt.ylabel('True Label')\n",
    "plt.xlabel('Predicted Label')\n",
    "plt.tight_layout()\n",
    "plt.show()"
   ]
  },
  {
   "cell_type": "code",
   "execution_count": null,
   "metadata": {
    "id": "4IiDyUAxCTPO"
   },
   "outputs": [],
   "source": [
    "if roberta_accuracy > bert_accuracy:\n",
    "    best_model_name = \"RoBERTa\"\n",
    "    best_preds = roberta_preds\n",
    "    best_model = roberta_model\n",
    "    best_tokenizer = AutoTokenizer.from_pretrained(\"mental/mental-roberta-base\")\n",
    "else:\n",
    "    best_model_name = \"BERT\"\n",
    "    best_preds = bert_preds\n",
    "    best_model = bert_model\n",
    "    best_tokenizer = AutoTokenizer.from_pretrained(\"mental/mental-bert-base-uncased\")"
   ]
  },
  {
   "cell_type": "markdown",
   "metadata": {
    "id": "tw6kWdqVUyXq"
   },
   "source": [
    "### 7. Error Analysis"
   ]
  },
  {
   "cell_type": "code",
   "execution_count": null,
   "metadata": {
    "colab": {
     "base_uri": "https://localhost:8080/"
    },
    "id": "odmghu5eCTWR",
    "outputId": "c4bbed9b-2262-4612-a76e-18267e8d2a49"
   },
   "outputs": [],
   "source": [
    "misclassified_indices = [i for i, (pred, true) in enumerate(zip(best_preds, roberta_labels)) if pred != true]\n",
    "print(f\"Number of misclassified examples: {len(misclassified_indices)} out of {len(test_df)}\")"
   ]
  },
  {
   "cell_type": "code",
   "execution_count": null,
   "metadata": {
    "id": "lG4JIxd5Qbaq"
   },
   "outputs": [],
   "source": [
    "test_df_reset = test_df.reset_index(drop=True)\n",
    "misclassified_df = test_df_reset.iloc[misclassified_indices].copy()\n",
    "misclassified_df['predicted_label'] = [best_preds[i] for i in misclassified_indices]\n",
    "misclassified_df['predicted_subreddit'] = label_encoder.inverse_transform(misclassified_df['predicted_label'])"
   ]
  },
  {
   "cell_type": "code",
   "execution_count": null,
   "metadata": {
    "colab": {
     "base_uri": "https://localhost:8080/"
    },
    "id": "mMFUSMrOQbdM",
    "outputId": "be3dbc92-dbca-4dce-95fc-e1a7c66f0cd2"
   },
   "outputs": [],
   "source": [
    "print(\"\\nExamples of misclassifications:\")\n",
    "for i, (idx, row) in enumerate(misclassified_df.head(5).iterrows()):\n",
    "    print(f\"\\nExample {i+1}:\")\n",
    "    print(f\"True subreddit: {row['subreddit']}\")\n",
    "    print(f\"Predicted subreddit: {row['predicted_subreddit']}\")\n",
    "    print(f\"Title: {row['title']}\")\n",
    "    print(f\"First 150 chars of text: {row['text'][:150]}...\")\n",
    "    print(\"-\" * 80)"
   ]
  },
  {
   "cell_type": "code",
   "execution_count": null,
   "metadata": {
    "id": "TOQQJ5JFQbfz"
   },
   "outputs": [],
   "source": [
    "misclass_pairs = misclassified_df.groupby(['subreddit', 'predicted_subreddit']).size().reset_index()\n",
    "misclass_pairs.columns = ['True Subreddit', 'Predicted Subreddit', 'Count']\n",
    "misclass_pairs = misclass_pairs.sort_values('Count', ascending=False)"
   ]
  },
  {
   "cell_type": "code",
   "execution_count": null,
   "metadata": {
    "colab": {
     "base_uri": "https://localhost:8080/"
    },
    "id": "sPRXNPl4QbiX",
    "outputId": "62b6ad2c-b774-4d98-9a0c-bfd8871cfeb6"
   },
   "outputs": [],
   "source": [
    "print(\"\\nMost common misclassification patterns:\")\n",
    "print(misclass_pairs.head(5))"
   ]
  },
  {
   "cell_type": "code",
   "execution_count": null,
   "metadata": {
    "colab": {
     "base_uri": "https://localhost:8080/",
     "height": 794
    },
    "id": "i1kKRE34UZiQ",
    "outputId": "50e04ce1-2343-485a-b57e-54ec4a9d2368"
   },
   "outputs": [],
   "source": [
    "plt.figure(figsize=(12, 8))\n",
    "misclass_matrix = pd.crosstab(misclassified_df['subreddit'], misclassified_df['predicted_subreddit'], normalize='index') * 100\n",
    "sns.heatmap(misclass_matrix, annot=True, fmt='.1f', cmap='rocket')\n",
    "plt.title('Misclassification Patterns (% of Errors)')\n",
    "plt.ylabel('True Subreddit')\n",
    "plt.xlabel('Predicted Subreddit')\n",
    "plt.tight_layout()\n",
    "plt.show()"
   ]
  },
  {
   "cell_type": "markdown",
   "metadata": {
    "id": "hrM2OGcdU2qK"
   },
   "source": [
    "## 8. Classifying Mentalhealth Posts"
   ]
  },
  {
   "cell_type": "code",
   "execution_count": null,
   "metadata": {
    "id": "rnmRkrHnUZk0"
   },
   "outputs": [],
   "source": [
    "mentalhealth_dataset = MentalHealthDataset(mentalhealth_df.assign(label=0), best_tokenizer)"
   ]
  },
  {
   "cell_type": "code",
   "execution_count": null,
   "metadata": {
    "id": "LgG0EhQLVB0C"
   },
   "outputs": [],
   "source": [
    "mentalhealth_loader = DataLoader(mentalhealth_dataset, batch_size=32, shuffle=False)"
   ]
  },
  {
   "cell_type": "code",
   "execution_count": null,
   "metadata": {
    "colab": {
     "base_uri": "https://localhost:8080/"
    },
    "id": "5idYZAvNU_-n",
    "outputId": "2c072759-d7f6-476f-cdfd-5d0b6c8be9d5"
   },
   "outputs": [],
   "source": [
    "best_model.eval()\n",
    "best_model.to(device)"
   ]
  },
  {
   "cell_type": "code",
   "execution_count": null,
   "metadata": {
    "colab": {
     "base_uri": "https://localhost:8080/",
     "height": 49,
     "referenced_widgets": [
      "c5981edb8a5b4467860a030700ccd075",
      "29d1eabef926471c9409ff5c5f72a81d",
      "55de2efa0eb640ae99b7731b7038da84",
      "774e5868f8624713bf624a452f5a3aa5",
      "f9d192b2b8074267af4bce8d0fc86790",
      "12bb629b49fa4351903a5f1256ad00d6",
      "ace9e5beb4a8452fb912b43176b6b6eb",
      "6ebe67501acc4b44a99c91c893281ba9",
      "86ced8526afb4e6789da4d7e0b0fcd5c",
      "098c5df3db8a4e65bbf941714ebec2dc",
      "22049a54e7874a729cd3472219a6194d"
     ]
    },
    "id": "JqgWwDU4VAA4",
    "outputId": "a12c5df6-f3ab-4e23-9c0f-b10075348265"
   },
   "outputs": [],
   "source": [
    "mentalhealth_preds = []\n",
    "with torch.no_grad():\n",
    "    for batch in tqdm(mentalhealth_loader, desc=\"Predicting\"):\n",
    "        inputs = {\n",
    "            'input_ids': batch['input_ids'].to(device),\n",
    "            'attention_mask': batch['attention_mask'].to(device)\n",
    "        }\n",
    "\n",
    "        outputs = best_model(**inputs)\n",
    "        logits = outputs.logits\n",
    "\n",
    "        preds = torch.argmax(logits, dim=-1).cpu().numpy()\n",
    "        probs = torch.softmax(logits, dim=-1).cpu().numpy()\n",
    "\n",
    "        mentalhealth_preds.extend([(pred, probs[i]) for i, pred in enumerate(preds)])"
   ]
  },
  {
   "cell_type": "code",
   "execution_count": null,
   "metadata": {
    "id": "pQE_l1s_VADn"
   },
   "outputs": [],
   "source": [
    "mentalhealth_df['predicted_label'] = [pred[0] for pred in mentalhealth_preds]\n",
    "mentalhealth_df['predicted_subreddit'] = label_encoder.inverse_transform(mentalhealth_df['predicted_label'])"
   ]
  },
  {
   "cell_type": "code",
   "execution_count": null,
   "metadata": {
    "id": "-Uv-c-_LVSBn"
   },
   "outputs": [],
   "source": [
    "for i, class_name in enumerate(label_encoder.classes_):\n",
    "    mentalhealth_df[f'prob_{class_name}'] = [pred[1][i] for pred in mentalhealth_preds]"
   ]
  },
  {
   "cell_type": "code",
   "execution_count": null,
   "metadata": {
    "id": "Y7Nrvl4LVSEa"
   },
   "outputs": [],
   "source": [
    "mentalhealth_df['confidence'] = [np.max(pred[1]) for pred in mentalhealth_preds]"
   ]
  },
  {
   "cell_type": "code",
   "execution_count": null,
   "metadata": {
    "colab": {
     "base_uri": "https://localhost:8080/",
     "height": 595
    },
    "id": "lY2Tk_hqVSG2",
    "outputId": "031e2708-4dc7-423d-cf57-4af2a267d597"
   },
   "outputs": [],
   "source": [
    "plt.figure(figsize=(10, 6))\n",
    "sns.countplot(y='predicted_subreddit', data=mentalhealth_df)\n",
    "plt.title('Distribution of Predicted Subreddits for Mentalhealth Posts')\n",
    "plt.xlabel('Count')\n",
    "plt.ylabel('Predicted Subreddit')\n",
    "plt.tight_layout()\n",
    "plt.show()"
   ]
  },
  {
   "cell_type": "code",
   "execution_count": null,
   "metadata": {
    "id": "nyjBDp4IVSKC"
   },
   "outputs": [],
   "source": [
    "predicted_counts = mentalhealth_df['predicted_subreddit'].value_counts()\n",
    "predicted_percentages = predicted_counts / predicted_counts.sum() * 100"
   ]
  },
  {
   "cell_type": "code",
   "execution_count": null,
   "metadata": {
    "colab": {
     "base_uri": "https://localhost:8080/"
    },
    "id": "tKYdvjy-VhoM",
    "outputId": "aac6b379-2c43-4529-fdc5-6870bb5c187f"
   },
   "outputs": [],
   "source": [
    "print(\"\\nDistribution of mentalhealth posts into specific subreddits:\")\n",
    "for subreddit, percentage in predicted_percentages.items():\n",
    "    print(f\"{subreddit}: {percentage:.2f}%\")"
   ]
  },
  {
   "cell_type": "code",
   "execution_count": null,
   "metadata": {
    "colab": {
     "base_uri": "https://localhost:8080/",
     "height": 595
    },
    "id": "gJz2xp1-Vhqr",
    "outputId": "99a5a35b-5d52-4dff-d82b-79cb004b89ce"
   },
   "outputs": [],
   "source": [
    "plt.figure(figsize=(10, 6))\n",
    "sns.histplot(mentalhealth_df['confidence'], bins=20, kde=True)\n",
    "plt.title('Confidence Distribution for Mentalhealth Post Classifications')\n",
    "plt.xlabel('Confidence Level (Max Probability)')\n",
    "plt.ylabel('Count')\n",
    "plt.tight_layout()\n",
    "plt.show()"
   ]
  },
  {
   "cell_type": "code",
   "execution_count": null,
   "metadata": {
    "id": "jRZQvk3UVhtO"
   },
   "outputs": [],
   "source": [
    "high_confidence = mentalhealth_df[mentalhealth_df['confidence'] >= 0.8]\n",
    "low_confidence = mentalhealth_df[mentalhealth_df['confidence'] < 0.5]"
   ]
  },
  {
   "cell_type": "code",
   "execution_count": null,
   "metadata": {
    "colab": {
     "base_uri": "https://localhost:8080/"
    },
    "id": "-dhkVfCaV3Rd",
    "outputId": "5fbc5899-e382-4b03-af4b-85b0a0b680dd"
   },
   "outputs": [],
   "source": [
    "print(f\"\\nHigh confidence predictions (>=80%): {len(high_confidence)} posts ({len(high_confidence)/len(mentalhealth_df)*100:.2f}%)\")\n",
    "print(f\"Low confidence predictions (<50%): {len(low_confidence)} posts ({len(low_confidence)/len(mentalhealth_df)*100:.2f}%)\")"
   ]
  },
  {
   "cell_type": "code",
   "execution_count": null,
   "metadata": {
    "colab": {
     "base_uri": "https://localhost:8080/",
     "height": 595
    },
    "id": "7zYRXELtV3T7",
    "outputId": "46baa4f4-cd6e-48b5-ea13-278384f88ad5"
   },
   "outputs": [],
   "source": [
    "if len(high_confidence) > 0:\n",
    "    plt.figure(figsize=(10, 6))\n",
    "    sns.countplot(y='predicted_subreddit', data=high_confidence)\n",
    "    plt.title('Distribution of High Confidence (>=80%) Predictions')\n",
    "    plt.xlabel('Count')\n",
    "    plt.ylabel('Predicted Subreddit')\n",
    "    plt.tight_layout()\n",
    "    plt.show()"
   ]
  },
  {
   "cell_type": "code",
   "execution_count": null,
   "metadata": {
    "id": "fR8jQbqrV3W3"
   },
   "outputs": [],
   "source": [
    "SAVE_PATH = os.path.join(os.path.dirname(os.getcwd()), 'classifications', 'transformer_classification.csv')\n",
    "mentalhealth_df.to_csv(SAVE_PATH, index=False)"
   ]
  }
 ],
 "metadata": {
  "accelerator": "GPU",
  "colab": {
   "gpuType": "A100",
   "machine_shape": "hm",
   "provenance": []
  },
  "kernelspec": {
   "display_name": "Python 3",
   "name": "python3"
  },
  "language_info": {
   "codemirror_mode": {
    "name": "ipython",
    "version": 3
   },
   "file_extension": ".py",
   "mimetype": "text/x-python",
   "name": "python",
   "nbconvert_exporter": "python",
   "pygments_lexer": "ipython3",
   "version": "3.12.3"
  },
  "widgets": {}
 },
 "nbformat": 4,
 "nbformat_minor": 0
}
