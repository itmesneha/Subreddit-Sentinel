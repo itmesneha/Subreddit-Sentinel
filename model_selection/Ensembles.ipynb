{
  "cells": [
    {
      "cell_type": "markdown",
      "id": "4e6232bf",
      "metadata": {
        "id": "4e6232bf"
      },
      "source": [
        "# Ensemble Classification"
      ]
    },
    {
      "cell_type": "markdown",
      "id": "d4c19867",
      "metadata": {
        "id": "d4c19867"
      },
      "source": [
        "### 1. Setup and Data Loading"
      ]
    },
    {
      "cell_type": "code",
      "execution_count": null,
      "id": "2590f272",
      "metadata": {
        "id": "2590f272"
      },
      "outputs": [],
      "source": [
        "import pandas as pd\n",
        "import numpy as np\n",
        "import matplotlib.pyplot as plt\n",
        "import seaborn as sns\n",
        "plt.style.use('fivethirtyeight')\n",
        "sns.set_style(style='darkgrid')\n",
        "\n",
        "from sklearn.model_selection import train_test_split, cross_val_score, StratifiedKFold\n",
        "from sklearn.preprocessing import StandardScaler, LabelEncoder\n",
        "from sklearn.metrics import classification_report, confusion_matrix, accuracy_score, f1_score\n",
        "from sklearn.pipeline import Pipeline\n",
        "from sklearn.compose import ColumnTransformer\n",
        "from sklearn.decomposition import PCA, TruncatedSVD\n",
        "from sklearn.feature_selection import SelectKBest, f_classif\n",
        "from sklearn.neural_network import MLPClassifier\n",
        "from sklearn.svm import SVC\n",
        "from sklearn.linear_model import LogisticRegression\n",
        "from sklearn.ensemble import RandomForestClassifier, BaggingClassifier, VotingClassifier, StackingClassifier\n",
        "import lightgbm as lgb\n",
        "\n",
        "from custom_stacking import CustomStackingClassifier\n",
        "import time\n",
        "import os"
      ]
    },
    {
      "cell_type": "code",
      "execution_count": null,
      "id": "522c43da",
      "metadata": {
        "id": "522c43da"
      },
      "outputs": [],
      "source": [
        "import warnings\n",
        "warnings.filterwarnings('ignore')"
      ]
    },
    {
      "cell_type": "code",
      "execution_count": null,
      "id": "f5cae815",
      "metadata": {
        "id": "f5cae815"
      },
      "outputs": [],
      "source": [
        "SEED = 42\n",
        "np.random.seed(SEED)"
      ]
    },
    {
      "cell_type": "markdown",
      "id": "4480a488",
      "metadata": {
        "id": "4480a488"
      },
      "source": [
        "### 2. Data Preparation and Splitting"
      ]
    },
    {
      "cell_type": "code",
      "execution_count": null,
      "id": "3f212784",
      "metadata": {
        "id": "3f212784"
      },
      "outputs": [],
      "source": [
        "DATA_PATH = os.path.join(os.path.dirname(os.getcwd()), 'data', 'RHMD_Engineered.csv')\n",
        "df = pd.read_csv(DATA_PATH)"
      ]
    },
    {
      "cell_type": "code",
      "execution_count": null,
      "id": "d6e68b91",
      "metadata": {
        "id": "d6e68b91"
      },
      "outputs": [],
      "source": [
        "mentalhealth_df = df[df['subreddit'] == 'mentalhealth'].copy()\n",
        "df = df[df['subreddit'] != 'mentalhealth'].copy()"
      ]
    },
    {
      "cell_type": "code",
      "execution_count": null,
      "id": "9b54394f",
      "metadata": {
        "colab": {
          "base_uri": "https://localhost:8080/"
        },
        "id": "9b54394f",
        "outputId": "9c2a8a0b-ecae-45e3-928f-13d3208133e7"
      },
      "outputs": [],
      "source": [
        "print(f\"Number of posts from specific mental health subreddits: {len(df)}\")\n",
        "print(f\"Number of general mentalhealth posts to be classified: {len(mentalhealth_df)}\")"
      ]
    },
    {
      "cell_type": "code",
      "execution_count": null,
      "id": "91cec968",
      "metadata": {
        "colab": {
          "base_uri": "https://localhost:8080/",
          "height": 595
        },
        "id": "91cec968",
        "outputId": "cf099965-3386-4b9c-901f-3b169cc1f3bb"
      },
      "outputs": [],
      "source": [
        "plt.figure(figsize=(10, 6))\n",
        "sns.countplot(y='subreddit', data=df)\n",
        "plt.title('Distribution of Posts Across Specific Mental Health Subreddits')\n",
        "plt.xlabel('Count')\n",
        "plt.ylabel('Subreddit')\n",
        "plt.tight_layout()\n",
        "plt.show()"
      ]
    },
    {
      "cell_type": "code",
      "execution_count": null,
      "id": "f3ea6f8a",
      "metadata": {
        "id": "f3ea6f8a"
      },
      "outputs": [],
      "source": [
        "feature_columns = [\n",
        "    'title_sentiment', 'text_sentiment', 'overall_sentiment', 'textblob_sentiment', 'textblob_subjectivity',\n",
        "    'negative_emotion', 'positive_emotion', 'sadness', 'fear', 'death', 'suffering', 'pain', 'shame', 'violence', 'love', 'optimism',\n",
        "    'title_word_count', 'text_word_count',\n",
        "    'dominant_topic', 'topic_contribution',\n",
        "    'distress_score'\n",
        "]"
      ]
    },
    {
      "cell_type": "code",
      "execution_count": null,
      "id": "66fed760",
      "metadata": {
        "colab": {
          "base_uri": "https://localhost:8080/"
        },
        "id": "66fed760",
        "outputId": "febc41b8-3f02-4158-c0cd-9489b915802e"
      },
      "outputs": [],
      "source": [
        "existing_features = [col for col in feature_columns if col in df.columns]\n",
        "print(f\"Using {len(existing_features)} features for prediction:\")\n",
        "print(existing_features)"
      ]
    },
    {
      "cell_type": "code",
      "execution_count": null,
      "id": "5ksJ518IMY7n",
      "metadata": {
        "id": "5ksJ518IMY7n"
      },
      "outputs": [],
      "source": [
        "X = df[existing_features]\n",
        "y = df['subreddit']"
      ]
    },
    {
      "cell_type": "code",
      "execution_count": null,
      "id": "2rUgEMGKMY-4",
      "metadata": {
        "id": "2rUgEMGKMY-4"
      },
      "outputs": [],
      "source": [
        "label_encoder = LabelEncoder()\n",
        "y_encoded = label_encoder.fit_transform(y)"
      ]
    },
    {
      "cell_type": "code",
      "execution_count": null,
      "id": "bKHq1y9xMZBb",
      "metadata": {
        "colab": {
          "base_uri": "https://localhost:8080/"
        },
        "id": "bKHq1y9xMZBb",
        "outputId": "9d983e07-bca2-4119-9b73-1f95162a918b"
      },
      "outputs": [],
      "source": [
        "print(\"\\nLabel encoding mapping:\")\n",
        "for i, subreddit in enumerate(label_encoder.classes_):\n",
        "    print(f\"{subreddit} -> {i}\")"
      ]
    },
    {
      "cell_type": "code",
      "execution_count": null,
      "id": "CziucxqdMZES",
      "metadata": {
        "id": "CziucxqdMZES"
      },
      "outputs": [],
      "source": [
        "X_train, X_test, y_train, y_test = train_test_split(X, y_encoded, test_size=0.2, random_state=SEED, stratify=y_encoded)"
      ]
    },
    {
      "cell_type": "code",
      "execution_count": null,
      "id": "7uPmkrZ9MZHY",
      "metadata": {
        "colab": {
          "base_uri": "https://localhost:8080/"
        },
        "id": "7uPmkrZ9MZHY",
        "outputId": "90d74a47-7680-4c86-fecb-418e33b3ae11"
      },
      "outputs": [],
      "source": [
        "print(f\"\\nTraining set shape: {X_train.shape}\")\n",
        "print(f\"Testing set shape: {X_test.shape}\")"
      ]
    },
    {
      "cell_type": "code",
      "execution_count": null,
      "id": "cYYaPTqANWaP",
      "metadata": {
        "colab": {
          "base_uri": "https://localhost:8080/"
        },
        "id": "cYYaPTqANWaP",
        "outputId": "d82f70f9-dfc7-4fa4-a5c7-bb822c27c5e2"
      },
      "outputs": [],
      "source": [
        "X_mentalhealth = mentalhealth_df[existing_features]\n",
        "print(f\"Mentalhealth posts feature set shape: {X_mentalhealth.shape}\")"
      ]
    },
    {
      "cell_type": "markdown",
      "id": "e2Wjn4TTNn8x",
      "metadata": {
        "id": "e2Wjn4TTNn8x"
      },
      "source": [
        "### 3. Feature Engineering for Different Model Architectures"
      ]
    },
    {
      "cell_type": "code",
      "execution_count": null,
      "id": "Cs_qLFOGNWdo",
      "metadata": {
        "id": "Cs_qLFOGNWdo"
      },
      "outputs": [],
      "source": [
        "scaler = StandardScaler()\n",
        "X_train_scaled = scaler.fit_transform(X_train)\n",
        "X_test_scaled = scaler.transform(X_test)"
      ]
    },
    {
      "cell_type": "code",
      "execution_count": null,
      "id": "kU1OuV6HMZKN",
      "metadata": {
        "id": "kU1OuV6HMZKN"
      },
      "outputs": [],
      "source": [
        "pca = PCA(n_components=min(15, len(existing_features)))\n",
        "X_train_pca = pca.fit_transform(X_train_scaled)\n",
        "X_test_pca = pca.transform(X_test_scaled)"
      ]
    },
    {
      "cell_type": "code",
      "execution_count": null,
      "id": "HqoXhpvzMZNp",
      "metadata": {
        "id": "HqoXhpvzMZNp"
      },
      "outputs": [],
      "source": [
        "selector = SelectKBest(f_classif, k=min(20, len(existing_features)))\n",
        "X_train_selected = selector.fit_transform(X_train, y_train)\n",
        "X_test_selected = selector.transform(X_test)"
      ]
    },
    {
      "cell_type": "code",
      "execution_count": null,
      "id": "-9vrkpFqMZQy",
      "metadata": {
        "colab": {
          "base_uri": "https://localhost:8080/"
        },
        "id": "-9vrkpFqMZQy",
        "outputId": "14490e44-2f94-4cd0-eeac-1a904cdedaa1"
      },
      "outputs": [],
      "source": [
        "selected_indices = selector.get_support(indices=True)\n",
        "selected_features = [existing_features[i] for i in selected_indices]\n",
        "print(\"\\nTop selected features based on ANOVA F-test:\")\n",
        "print(selected_features)"
      ]
    },
    {
      "cell_type": "code",
      "execution_count": null,
      "id": "MjwvJuG0MZT_",
      "metadata": {
        "colab": {
          "base_uri": "https://localhost:8080/",
          "height": 647
        },
        "id": "MjwvJuG0MZT_",
        "outputId": "20693acf-fc37-4cfe-8b71-df580a0aa2a3"
      },
      "outputs": [],
      "source": [
        "explained_variance = pca.explained_variance_ratio_\n",
        "print(\"\\nPCA explained variance ratio:\")\n",
        "print(sum(explained_variance))\n",
        "plt.figure(figsize=(10, 6))\n",
        "plt.bar(range(1, len(explained_variance) + 1), explained_variance)\n",
        "plt.xlabel('Principal Component')\n",
        "plt.ylabel('Explained Variance Ratio')\n",
        "plt.title('Explained Variance by Principal Components')\n",
        "plt.xticks(range(1, len(explained_variance) + 1))\n",
        "plt.tight_layout()\n",
        "plt.show()"
      ]
    },
    {
      "cell_type": "code",
      "execution_count": null,
      "id": "ntNbRbDBMZXe",
      "metadata": {
        "id": "ntNbRbDBMZXe"
      },
      "outputs": [],
      "source": [
        "X_train_nn = X_train_scaled.copy()\n",
        "X_test_nn = X_test_scaled.copy()"
      ]
    },
    {
      "cell_type": "code",
      "execution_count": null,
      "id": "VJiGjeIYOMmv",
      "metadata": {
        "id": "VJiGjeIYOMmv"
      },
      "outputs": [],
      "source": [
        "X_train_svm = X_train_scaled.copy()\n",
        "X_test_svm = X_test_scaled.copy()"
      ]
    },
    {
      "cell_type": "code",
      "execution_count": null,
      "id": "ikCSThc7OMpF",
      "metadata": {
        "id": "ikCSThc7OMpF"
      },
      "outputs": [],
      "source": [
        "X_train_rf = X_train.copy()\n",
        "X_test_rf = X_test.copy()"
      ]
    },
    {
      "cell_type": "code",
      "execution_count": null,
      "id": "TCoL7IONOMsI",
      "metadata": {
        "id": "TCoL7IONOMsI"
      },
      "outputs": [],
      "source": [
        "X_train_lgb = X_train.copy()\n",
        "X_test_lgb = X_test.copy()"
      ]
    },
    {
      "cell_type": "code",
      "execution_count": null,
      "id": "tV1QsLpLOMwC",
      "metadata": {
        "id": "tV1QsLpLOMwC"
      },
      "outputs": [],
      "source": [
        "X_train_lr = X_train_pca.copy()\n",
        "X_test_lr = X_test_pca.copy()"
      ]
    },
    {
      "cell_type": "markdown",
      "id": "TC9XLREAOYzg",
      "metadata": {
        "id": "TC9XLREAOYzg"
      },
      "source": [
        "### 4. Base Model Training and Evaluation"
      ]
    },
    {
      "cell_type": "code",
      "execution_count": null,
      "id": "XJEuKaSJOMzK",
      "metadata": {
        "id": "XJEuKaSJOMzK"
      },
      "outputs": [],
      "source": [
        "def evaluate_model(model, X_train, X_test, y_train, y_test, model_name):\n",
        "    start_time = time.time()\n",
        "    model.fit(X_train, y_train)\n",
        "    train_time = time.time() - start_time\n",
        "\n",
        "    y_pred = model.predict(X_test)\n",
        "\n",
        "    accuracy = accuracy_score(y_test, y_pred)\n",
        "    f1 = f1_score(y_test, y_pred, average='weighted')\n",
        "\n",
        "    print(f\"{model_name} - Accuracy: {accuracy:.4f}, F1: {f1:.4f}, Time: {train_time:.2f}s\")\n",
        "\n",
        "    return model, accuracy, f1, train_time, y_pred"
      ]
    },
    {
      "cell_type": "code",
      "execution_count": null,
      "id": "CmRVCziBObGS",
      "metadata": {
        "id": "CmRVCziBObGS"
      },
      "outputs": [],
      "source": [
        "models = {\n",
        "    \"Neural Network\": MLPClassifier(\n",
        "        hidden_layer_sizes=(100, 50),\n",
        "        activation='relu',\n",
        "        alpha=0.0001,\n",
        "        max_iter=300,\n",
        "        random_state=SEED\n",
        "    ),\n",
        "    \"SVM\": SVC(\n",
        "        C=1.0,\n",
        "        kernel='rbf',\n",
        "        probability=True,\n",
        "        random_state=SEED\n",
        "    ),\n",
        "    \"Random Forest\": RandomForestClassifier(\n",
        "        n_estimators=100,\n",
        "        max_depth=None,\n",
        "        min_samples_split=2,\n",
        "        random_state=SEED\n",
        "    ),\n",
        "    \"LightGBM\": lgb.LGBMClassifier(\n",
        "        n_estimators=500,\n",
        "        learning_rate=0.01,\n",
        "        max_depth=8,\n",
        "        colsample_bytree=0.65,\n",
        "        minnum_leaves=68,\n",
        "        reg_alpha=10,\n",
        "        reg_lambda=5.5,\n",
        "        subsample=1,\n",
        "        random_state=SEED\n",
        "    ),\n",
        "    \"Logistic Regression\": LogisticRegression(\n",
        "        C=1.0,\n",
        "        max_iter=1000,\n",
        "        random_state=SEED\n",
        "    )\n",
        "}"
      ]
    },
    {
      "cell_type": "code",
      "execution_count": null,
      "id": "B_UetSnHObI1",
      "metadata": {
        "id": "B_UetSnHObI1"
      },
      "outputs": [],
      "source": [
        "results = {}\n",
        "predictions = {}"
      ]
    },
    {
      "cell_type": "code",
      "execution_count": null,
      "id": "U2ELHl4pObLd",
      "metadata": {
        "colab": {
          "base_uri": "https://localhost:8080/"
        },
        "id": "U2ELHl4pObLd",
        "outputId": "2df8dfa1-b60d-440f-931a-7206538e63ba"
      },
      "outputs": [],
      "source": [
        "for name, model in models.items():\n",
        "    if name == \"Neural Network\":\n",
        "        trained_model, acc, f1, time_taken, preds = evaluate_model(\n",
        "            model, X_train_nn, X_test_nn, y_train, y_test, name\n",
        "        )\n",
        "    elif name == \"SVM\":\n",
        "        trained_model, acc, f1, time_taken, preds = evaluate_model(\n",
        "            model, X_train_svm, X_test_svm, y_train, y_test, name\n",
        "        )\n",
        "    elif name == \"Random Forest\":\n",
        "        trained_model, acc, f1, time_taken, preds = evaluate_model(\n",
        "            model, X_train_rf, X_test_rf, y_train, y_test, name\n",
        "        )\n",
        "    elif name == \"LightGBM\":\n",
        "        trained_model, acc, f1, time_taken, preds = evaluate_model(\n",
        "            model, X_train_lgb, X_test_lgb, y_train, y_test, name\n",
        "        )\n",
        "    elif name == \"Logistic Regression\":\n",
        "        trained_model, acc, f1, time_taken, preds = evaluate_model(\n",
        "            model, X_train_lr, X_test_lr, y_train, y_test, name\n",
        "        )\n",
        "\n",
        "    results[name] = {\n",
        "        'model': trained_model,\n",
        "        'accuracy': acc,\n",
        "        'f1': f1,\n",
        "        'time': time_taken\n",
        "    }\n",
        "    predictions[name] = preds"
      ]
    },
    {
      "cell_type": "code",
      "execution_count": null,
      "id": "e71UBBeYObOX",
      "metadata": {
        "id": "e71UBBeYObOX"
      },
      "outputs": [],
      "source": [
        "base_results = pd.DataFrame({\n",
        "    'Model': list(results.keys()),\n",
        "    'Accuracy': [results[m]['accuracy'] for m in results],\n",
        "    'F1 Score': [results[m]['f1'] for m in results]\n",
        "})"
      ]
    },
    {
      "cell_type": "code",
      "execution_count": null,
      "id": "b64cvu7rObSi",
      "metadata": {
        "id": "b64cvu7rObSi"
      },
      "outputs": [],
      "source": [
        "base_results = base_results.sort_values('Accuracy', ascending=False)"
      ]
    },
    {
      "cell_type": "code",
      "execution_count": null,
      "id": "nkrFN5jaObV7",
      "metadata": {
        "colab": {
          "base_uri": "https://localhost:8080/",
          "height": 563
        },
        "id": "nkrFN5jaObV7",
        "outputId": "c4e54c7c-9e99-4797-ecaf-ead80f38a159"
      },
      "outputs": [],
      "source": [
        "plt.figure(figsize=(12, 6))\n",
        "sns.barplot(x='Accuracy', y='Model', data=base_results)\n",
        "plt.title('Base Model Accuracy Comparison')\n",
        "plt.xlabel('Accuracy')\n",
        "plt.tight_layout()\n",
        "plt.show()"
      ]
    },
    {
      "cell_type": "code",
      "execution_count": null,
      "id": "2lNTVGVdyVDi",
      "metadata": {
        "colab": {
          "base_uri": "https://localhost:8080/",
          "height": 563
        },
        "id": "2lNTVGVdyVDi",
        "outputId": "01b2051b-fa1d-40b5-be11-70a5c4eed932"
      },
      "outputs": [],
      "source": [
        "plt.figure(figsize=(12, 6))\n",
        "sns.barplot(x='Accuracy', y='Model', data=base_results)\n",
        "plt.title('Base Model Accuracy Comparison')\n",
        "plt.xlabel('Accuracy')\n",
        "plt.tight_layout()\n",
        "plt.show()"
      ]
    },
    {
      "cell_type": "markdown",
      "id": "5moRWo6_0Km0",
      "metadata": {
        "id": "5moRWo6_0Km0"
      },
      "source": [
        "### 5. Bagging With SVM"
      ]
    },
    {
      "cell_type": "code",
      "execution_count": null,
      "id": "2lPsRD4L0QSB",
      "metadata": {
        "id": "2lPsRD4L0QSB"
      },
      "outputs": [],
      "source": [
        "bagging_svm = BaggingClassifier(\n",
        "    estimator=SVC(probability=True, random_state=SEED),\n",
        "    n_estimators=10,\n",
        "    max_samples=0.8,\n",
        "    max_features=0.8,\n",
        "    bootstrap=True,\n",
        "    bootstrap_features=False,\n",
        "    random_state=SEED\n",
        ")"
      ]
    },
    {
      "cell_type": "code",
      "execution_count": null,
      "id": "3VktsLDez6Om",
      "metadata": {
        "colab": {
          "base_uri": "https://localhost:8080/"
        },
        "id": "3VktsLDez6Om",
        "outputId": "1768b0ba-d073-424a-ca29-51389337a86b"
      },
      "outputs": [],
      "source": [
        "bagging_svm, acc_svm, f1_svm, time_svm, preds_svm = evaluate_model(\n",
        "    bagging_svm, X_train_svm, X_test_svm, y_train, y_test, \"Bagging with SVM\"\n",
        ")"
      ]
    },
    {
      "cell_type": "code",
      "execution_count": null,
      "id": "PjkImBXwz6SQ",
      "metadata": {
        "colab": {
          "base_uri": "https://localhost:8080/"
        },
        "id": "PjkImBXwz6SQ",
        "outputId": "603afae4-d250-4fce-fb7e-c41b27dd001d"
      },
      "outputs": [],
      "source": [
        "print(f\"Bagging with SVM - Accuracy: {acc_svm:.4f}, F1: {f1_svm:.4f}\")"
      ]
    },
    {
      "cell_type": "markdown",
      "id": "5P3PsJmk16S2",
      "metadata": {
        "id": "5P3PsJmk16S2"
      },
      "source": [
        "### 6. Voting"
      ]
    },
    {
      "cell_type": "code",
      "execution_count": null,
      "id": "2ttZdzFXz6b9",
      "metadata": {
        "id": "2ttZdzFXz6b9"
      },
      "outputs": [],
      "source": [
        "voting_clf = VotingClassifier(\n",
        "    estimators=[\n",
        "        ('nn', MLPClassifier(hidden_layer_sizes=(100, 50), activation='relu', random_state=SEED)),\n",
        "        ('svm', SVC(probability=True, random_state=SEED)),\n",
        "        ('rf', RandomForestClassifier(n_estimators=100, random_state=SEED)),\n",
        "        ('lgb', lgb.LGBMClassifier(n_estimators=500, learning_rate=0.01, max_depth=8, colsample_bytree=0.65, min_child_samples=13, num_leaves=68, reg_alpha=10, reg_lambda=5.5, subsample=1, random_state=SEED))\n",
        "    ],\n",
        "    voting='soft'\n",
        ")"
      ]
    },
    {
      "cell_type": "code",
      "execution_count": null,
      "id": "Rfluzembz6g0",
      "metadata": {
        "colab": {
          "base_uri": "https://localhost:8080/",
          "height": 392
        },
        "id": "Rfluzembz6g0",
        "outputId": "34c4e527-7f03-40bc-c58f-02523ac34636"
      },
      "outputs": [],
      "source": [
        "nn_model = MLPClassifier(hidden_layer_sizes=(100, 50), activation='relu', random_state=SEED)\n",
        "nn_model.fit(X_train_nn, y_train)\n",
        "\n",
        "svm_model = SVC(probability=True, random_state=SEED)\n",
        "svm_model.fit(X_train_svm, y_train)\n",
        "\n",
        "rf_model = RandomForestClassifier(n_estimators=100, random_state=SEED)\n",
        "rf_model.fit(X_train_rf, y_train)\n",
        "\n",
        "lgb_model = lgb.LGBMClassifier(n_estimators=500, learning_rate=0.01, max_depth=8, colsample_bytree=0.65, minum_leaves=68, reg_alpha=10, reg_lambda=5.5, subsample=1, random_state=SEED)\n",
        "lgb_model.fit(X_train_lgb, y_train)"
      ]
    },
    {
      "cell_type": "code",
      "execution_count": null,
      "id": "PX4w_NmX3bsY",
      "metadata": {
        "id": "PX4w_NmX3bsY"
      },
      "outputs": [],
      "source": [
        "voting_clf.estimators[0] = nn_model\n",
        "voting_clf.estimators[1] = svm_model\n",
        "voting_clf.estimators[2] = rf_model\n",
        "voting_clf.estimators[3] = lgb_model\n",
        "voting_clf._fitted = True"
      ]
    },
    {
      "cell_type": "code",
      "execution_count": null,
      "id": "VHe9LJ5t3bkR",
      "metadata": {
        "colab": {
          "base_uri": "https://localhost:8080/"
        },
        "id": "VHe9LJ5t3bkR",
        "outputId": "bc9874f2-44a9-493f-8555-5da5e9e8e97d"
      },
      "outputs": [],
      "source": [
        "nn_pred_proba = nn_model.predict_proba(X_test_nn)\n",
        "svm_pred_proba = svm_model.predict_proba(X_test_svm)\n",
        "rf_pred_proba = rf_model.predict_proba(X_test_rf)\n",
        "lgb_pred_proba = lgb_model.predict_proba(X_test_lgb)"
      ]
    },
    {
      "cell_type": "code",
      "execution_count": null,
      "id": "GRoWi0dl3bhi",
      "metadata": {
        "id": "GRoWi0dl3bhi"
      },
      "outputs": [],
      "source": [
        "avg_pred_proba = (nn_pred_proba + svm_pred_proba + rf_pred_proba + lgb_pred_proba) / 4\n",
        "voting_pred = np.argmax(avg_pred_proba, axis=1)"
      ]
    },
    {
      "cell_type": "code",
      "execution_count": null,
      "id": "uK0crBfp3bXS",
      "metadata": {
        "id": "uK0crBfp3bXS"
      },
      "outputs": [],
      "source": [
        "voting_accuracy = accuracy_score(y_test, voting_pred)\n",
        "voting_f1 = f1_score(y_test, voting_pred, average='weighted')"
      ]
    },
    {
      "cell_type": "code",
      "execution_count": null,
      "id": "1MXjglYJ6x_R",
      "metadata": {
        "colab": {
          "base_uri": "https://localhost:8080/"
        },
        "id": "1MXjglYJ6x_R",
        "outputId": "71e5387a-25af-499e-fd64-3515e57d02c4"
      },
      "outputs": [],
      "source": [
        "print(f\"Voting Classifier - Accuracy: {voting_accuracy:.4f}, F1: {voting_f1:.4f}\")"
      ]
    },
    {
      "cell_type": "code",
      "execution_count": null,
      "id": "gYM8bliz6yB1",
      "metadata": {
        "id": "gYM8bliz6yB1"
      },
      "outputs": [],
      "source": [
        "bagging_and_voting_results = pd.DataFrame({\n",
        "    'Model': ['Voting Classifier', 'Bagging with SVM'],\n",
        "    'Accuracy': [voting_accuracy, acc_svm],\n",
        "    'F1 Score': [voting_f1, f1_svm]\n",
        "})"
      ]
    },
    {
      "cell_type": "code",
      "execution_count": null,
      "id": "S7PS43rx6yEt",
      "metadata": {
        "id": "S7PS43rx6yEt"
      },
      "outputs": [],
      "source": [
        "comparison_df = pd.concat([base_results, bagging_and_voting_results])\n",
        "comparison_df = comparison_df.sort_values('Accuracy', ascending=False)"
      ]
    },
    {
      "cell_type": "code",
      "execution_count": null,
      "id": "X37uiGh17eyR",
      "metadata": {
        "colab": {
          "base_uri": "https://localhost:8080/",
          "height": 751
        },
        "id": "X37uiGh17eyR",
        "outputId": "00a95a27-6cee-4605-b7d8-d72c34f2082d"
      },
      "outputs": [],
      "source": [
        "plt.figure(figsize=(12, 8))\n",
        "sns.barplot(x='Accuracy', y='Model', data=comparison_df)\n",
        "plt.title('Model Accuracy Comparison')\n",
        "plt.xlabel('Accuracy')\n",
        "plt.tight_layout()\n",
        "plt.show()"
      ]
    },
    {
      "cell_type": "markdown",
      "id": "PWn2Heo271Bf",
      "metadata": {
        "id": "PWn2Heo271Bf"
      },
      "source": [
        "### 7. Stacking"
      ]
    },
    {
      "cell_type": "code",
      "execution_count": null,
      "id": "51IA8aJW7e7y",
      "metadata": {
        "id": "51IA8aJW7e7y"
      },
      "outputs": [],
      "source": [
        "base_models = [\n",
        "    ('nn', MLPClassifier(hidden_layer_sizes=(100, 50), activation='relu', random_state=SEED)),\n",
        "    ('svm', SVC(probability=True, random_state=SEED)),\n",
        "    ('rf', RandomForestClassifier(n_estimators=100, random_state=SEED)),\n",
        "    ('lgb', lgb.LGBMClassifier(n_estimators=500, learning_rate=0.01, max_depth=8, colsample_bytree=0.65, min_child_samples=13, num_leaves=68, reg_alpha=10, reg_lambda=5.5, subsample=1, random_state=SEED))\n",
        "]"
      ]
    },
    {
      "cell_type": "code",
      "execution_count": null,
      "id": "fGjA1rcy7fCu",
      "metadata": {
        "id": "fGjA1rcy7fCu"
      },
      "outputs": [],
      "source": [
        "meta_model = LogisticRegression(C=1.0, max_iter=1000, random_state=SEED)"
      ]
    },
    {
      "cell_type": "code",
      "execution_count": null,
      "id": "Gl_xZjLQ7fIh",
      "metadata": {
        "id": "Gl_xZjLQ7fIh"
      },
      "outputs": [],
      "source": [
        "feature_sets = {\n",
        "    'nn': [X_train_nn, X_test_nn],\n",
        "    'svm': [X_train_svm, X_test_svm],\n",
        "    'rf': [X_train_rf, X_test_rf],\n",
        "    'lgb': [X_train_lgb, X_test_lgb]\n",
        "}"
      ]
    },
    {
      "cell_type": "code",
      "execution_count": null,
      "id": "Ck372Xru7fMD",
      "metadata": {
        "id": "Ck372Xru7fMD"
      },
      "outputs": [],
      "source": [
        "stacking_clf = CustomStackingClassifier(\n",
        "    base_models=base_models,\n",
        "    meta_model=meta_model,\n",
        "    feature_sets=feature_sets,\n",
        ")"
      ]
    },
    {
      "cell_type": "code",
      "execution_count": null,
      "id": "HOEsLHdV9w1L",
      "metadata": {
        "colab": {
          "base_uri": "https://localhost:8080/",
          "height": 1000
        },
        "id": "HOEsLHdV9w1L",
        "outputId": "a5d3929c-1eba-47c3-f59f-79211be7d1e4"
      },
      "outputs": [],
      "source": [
        "stacking_clf.fit(X_train, y_train)"
      ]
    },
    {
      "cell_type": "code",
      "execution_count": null,
      "id": "EwLf6r4WS3k7",
      "metadata": {
        "id": "EwLf6r4WS3k7"
      },
      "outputs": [],
      "source": [
        "stacking_pred = stacking_clf.predict(X_test)"
      ]
    },
    {
      "cell_type": "code",
      "execution_count": null,
      "id": "VpmgJJhg9w7l",
      "metadata": {
        "id": "VpmgJJhg9w7l"
      },
      "outputs": [],
      "source": [
        "stacking_accuracy = accuracy_score(y_test, stacking_pred)\n",
        "stacking_f1 = f1_score(y_test, stacking_pred, average='weighted')"
      ]
    },
    {
      "cell_type": "code",
      "execution_count": null,
      "id": "HgXJDmjUTryw",
      "metadata": {
        "colab": {
          "base_uri": "https://localhost:8080/"
        },
        "id": "HgXJDmjUTryw",
        "outputId": "5c29cee2-33e6-4112-c4fe-84d469638810"
      },
      "outputs": [],
      "source": [
        "print(f\"Stacking Classifier - Accuracy: {stacking_accuracy:.4f}, F1: {stacking_f1:.4f}\")"
      ]
    },
    {
      "cell_type": "code",
      "execution_count": null,
      "id": "LrVA19B0TuO5",
      "metadata": {
        "id": "LrVA19B0TuO5"
      },
      "outputs": [],
      "source": [
        "stacking_results = pd.DataFrame({\n",
        "    'Model': ['Stacking Classifier'],\n",
        "    'Accuracy': [stacking_accuracy],\n",
        "    'F1 Score': [stacking_f1]\n",
        "})"
      ]
    },
    {
      "cell_type": "code",
      "execution_count": null,
      "id": "appccM_YTx6F",
      "metadata": {
        "id": "appccM_YTx6F"
      },
      "outputs": [],
      "source": [
        "comparison_df = pd.concat([comparison_df, stacking_results])\n",
        "comparison_df = comparison_df.sort_values('Accuracy', ascending=False)"
      ]
    },
    {
      "cell_type": "code",
      "execution_count": null,
      "id": "NfBYkGnFT2Ls",
      "metadata": {
        "colab": {
          "base_uri": "https://localhost:8080/",
          "height": 751
        },
        "id": "NfBYkGnFT2Ls",
        "outputId": "2a2c3c5f-745d-42bb-a788-a79cf0fee805"
      },
      "outputs": [],
      "source": [
        "plt.figure(figsize=(12, 8))\n",
        "sns.barplot(x='Accuracy', y='Model', data=comparison_df)\n",
        "plt.title('Model Accuracy Comparison')\n",
        "plt.xlabel('Accuracy')\n",
        "plt.tight_layout()\n",
        "plt.show()"
      ]
    },
    {
      "cell_type": "code",
      "execution_count": null,
      "id": "hRaz2mlKX9Vc",
      "metadata": {
        "colab": {
          "base_uri": "https://localhost:8080/"
        },
        "id": "hRaz2mlKX9Vc",
        "outputId": "33e4d966-32ee-4c0e-abb8-de068779d5c6"
      },
      "outputs": [],
      "source": [
        "best_model_name = comparison_df.iloc[comparison_df['Accuracy'].argmax()]['Model']\n",
        "print(f\"\\nBest model based on accuracy: {best_model_name}\")"
      ]
    },
    {
      "cell_type": "code",
      "execution_count": null,
      "id": "Eby4-GXiX9YB",
      "metadata": {
        "id": "Eby4-GXiX9YB"
      },
      "outputs": [],
      "source": [
        "if best_model_name == 'Stacking Classifier':\n",
        "    best_preds = stacking_pred\n",
        "elif best_model_name == 'Voting Classifier':\n",
        "    best_preds = voting_pred\n",
        "elif best_model_name == 'Bagging-SVM':\n",
        "        best_preds = preds_svm\n",
        "else:\n",
        "    model_key = best_model_name\n",
        "    best_preds = predictions[model_key]"
      ]
    },
    {
      "cell_type": "code",
      "execution_count": null,
      "id": "JHsZPQimX9bF",
      "metadata": {
        "colab": {
          "base_uri": "https://localhost:8080/",
          "height": 794
        },
        "id": "JHsZPQimX9bF",
        "outputId": "2f76c910-212a-4932-f4b3-545dd8c1b03f"
      },
      "outputs": [],
      "source": [
        "cm = confusion_matrix(y_test, best_preds)\n",
        "plt.figure(figsize=(10, 8))\n",
        "sns.heatmap(cm, annot=True, fmt='d', cmap='rocket',\n",
        "            xticklabels=label_encoder.classes_,\n",
        "            yticklabels=label_encoder.classes_)\n",
        "plt.title(f'Confusion Matrix - {best_model_name}')\n",
        "plt.ylabel('True Label')\n",
        "plt.xlabel('Predicted Label')\n",
        "plt.tight_layout()\n",
        "plt.show()"
      ]
    },
    {
      "cell_type": "code",
      "execution_count": null,
      "id": "aCT6PhMeX9e2",
      "metadata": {
        "colab": {
          "base_uri": "https://localhost:8080/"
        },
        "id": "aCT6PhMeX9e2",
        "outputId": "c809fbaf-358c-476c-e67e-523f6cf61a20"
      },
      "outputs": [],
      "source": [
        "print(\"\\nClassification Report for Best Model:\")\n",
        "print(classification_report(y_test, best_preds, target_names=label_encoder.classes_))"
      ]
    },
    {
      "cell_type": "markdown",
      "id": "JBKr8VTsaB1q",
      "metadata": {
        "id": "JBKr8VTsaB1q"
      },
      "source": [
        "### 8. Classifying Mentalhealth Posts"
      ]
    },
    {
      "cell_type": "code",
      "execution_count": null,
      "id": "SK4MnEe2X9iM",
      "metadata": {
        "id": "SK4MnEe2X9iM"
      },
      "outputs": [],
      "source": [
        "X_mentalhealth_nn = scaler.transform(X_mentalhealth)\n",
        "X_mentalhealth_svm = scaler.transform(X_mentalhealth)\n",
        "X_mentalhealth_rf = X_mentalhealth.copy()\n",
        "X_mentalhealth_lgb = X_mentalhealth.copy()\n",
        "X_mentalhealth_lr = pca.transform(scaler.transform(X_mentalhealth))"
      ]
    },
    {
      "cell_type": "code",
      "execution_count": null,
      "id": "V_igMXAoZ9kl",
      "metadata": {
        "id": "V_igMXAoZ9kl"
      },
      "outputs": [],
      "source": [
        "feature_sets_pred = {\n",
        "    'nn': (X_train_nn, X_mentalhealth_nn),\n",
        "    'svm': (X_train_svm, X_mentalhealth_svm),\n",
        "    'rf': (X_train_rf, X_mentalhealth_rf),\n",
        "    'lgb': (X_train_lgb, X_mentalhealth_lgb)\n",
        "}"
      ]
    },
    {
      "cell_type": "code",
      "execution_count": null,
      "id": "iOqd3rLPZ9nL",
      "metadata": {
        "id": "iOqd3rLPZ9nL"
      },
      "outputs": [],
      "source": [
        "stacking_clf.feature_sets = feature_sets_pred\n",
        "mentalhealth_preds = stacking_clf.predict(X_mentalhealth)\n",
        "mentalhealth_probs = stacking_clf.predict_proba(X_mentalhealth)"
      ]
    },
    {
      "cell_type": "code",
      "execution_count": null,
      "id": "jFwQHaM0Z9p3",
      "metadata": {
        "id": "jFwQHaM0Z9p3"
      },
      "outputs": [],
      "source": [
        "mentalhealth_df['predicted_label'] = mentalhealth_preds\n",
        "mentalhealth_df['predicted_subreddit'] = label_encoder.inverse_transform(mentalhealth_preds)"
      ]
    },
    {
      "cell_type": "code",
      "execution_count": null,
      "id": "jmewuS7lawl9",
      "metadata": {
        "id": "jmewuS7lawl9"
      },
      "outputs": [],
      "source": [
        "for i, class_name in enumerate(label_encoder.classes_):\n",
        "    mentalhealth_df[f'prob_{class_name}'] = mentalhealth_probs[:, i]"
      ]
    },
    {
      "cell_type": "code",
      "execution_count": null,
      "id": "cb_jzp9sawpZ",
      "metadata": {
        "id": "cb_jzp9sawpZ"
      },
      "outputs": [],
      "source": [
        "mentalhealth_df['confidence'] = mentalhealth_probs.max(axis=1)"
      ]
    },
    {
      "cell_type": "code",
      "execution_count": null,
      "id": "egcNscSebGhk",
      "metadata": {
        "colab": {
          "base_uri": "https://localhost:8080/",
          "height": 595
        },
        "id": "egcNscSebGhk",
        "outputId": "445cfad3-5863-4cc9-fde6-f7a979da1e46"
      },
      "outputs": [],
      "source": [
        "plt.figure(figsize=(10, 6))\n",
        "sns.countplot(y='predicted_subreddit', data=mentalhealth_df)\n",
        "plt.title('Distribution of Predicted Subreddits for Mentalhealth Posts')\n",
        "plt.xlabel('Count')\n",
        "plt.ylabel('Predicted Subreddit')\n",
        "plt.tight_layout()\n",
        "plt.show()"
      ]
    },
    {
      "cell_type": "code",
      "execution_count": null,
      "id": "k6BRVTtZbGj-",
      "metadata": {
        "id": "k6BRVTtZbGj-"
      },
      "outputs": [],
      "source": [
        "predicted_counts = mentalhealth_df['predicted_subreddit'].value_counts()\n",
        "predicted_percentages = predicted_counts / predicted_counts.sum() * 100"
      ]
    },
    {
      "cell_type": "code",
      "execution_count": null,
      "id": "O85DWLgWbONw",
      "metadata": {
        "colab": {
          "base_uri": "https://localhost:8080/"
        },
        "id": "O85DWLgWbONw",
        "outputId": "691dbea4-773d-453f-8617-d39323bdf012"
      },
      "outputs": [],
      "source": [
        "print(\"\\nDistribution of mentalhealth posts into specific subreddits:\")\n",
        "for subreddit, percentage in predicted_percentages.items():\n",
        "    print(f\"{subreddit}: {percentage:.2f}%\")"
      ]
    },
    {
      "cell_type": "code",
      "execution_count": null,
      "id": "IqrmXfucbOQp",
      "metadata": {
        "colab": {
          "base_uri": "https://localhost:8080/",
          "height": 595
        },
        "id": "IqrmXfucbOQp",
        "outputId": "aececf80-ee9f-4f84-d6a2-0506bfff101f"
      },
      "outputs": [],
      "source": [
        "plt.figure(figsize=(10, 6))\n",
        "sns.histplot(mentalhealth_df['confidence'], bins=20, kde=True)\n",
        "plt.title('Confidence Distribution for Mentalhealth Post Classifications')\n",
        "plt.xlabel('Confidence Level (Max Probability)')\n",
        "plt.ylabel('Count')\n",
        "plt.tight_layout()\n",
        "plt.show()"
      ]
    },
    {
      "cell_type": "code",
      "execution_count": null,
      "id": "Z98TDx5xbOTx",
      "metadata": {
        "id": "Z98TDx5xbOTx"
      },
      "outputs": [],
      "source": [
        "high_confidence = mentalhealth_df[mentalhealth_df['confidence'] >= 0.8]\n",
        "low_confidence = mentalhealth_df[mentalhealth_df['confidence'] < 0.5]"
      ]
    },
    {
      "cell_type": "code",
      "execution_count": null,
      "id": "Zyg1mtVbbWqF",
      "metadata": {
        "colab": {
          "base_uri": "https://localhost:8080/"
        },
        "id": "Zyg1mtVbbWqF",
        "outputId": "b1162ad4-0f78-4274-80c2-71a2fbf4db6f"
      },
      "outputs": [],
      "source": [
        "print(f\"\\nHigh confidence predictions (>=80%): {len(high_confidence)} posts ({len(high_confidence)/len(mentalhealth_df)*100:.2f}%)\")\n",
        "print(f\"Low confidence predictions (<50%): {len(low_confidence)} posts ({len(low_confidence)/len(mentalhealth_df)*100:.2f}%)\")"
      ]
    },
    {
      "cell_type": "code",
      "execution_count": null,
      "id": "fJM2qqP7bXts",
      "metadata": {
        "colab": {
          "base_uri": "https://localhost:8080/",
          "height": 595
        },
        "id": "fJM2qqP7bXts",
        "outputId": "51ff37fe-c9de-462a-f745-b28e697151ee"
      },
      "outputs": [],
      "source": [
        "if len(high_confidence) > 0:\n",
        "    plt.figure(figsize=(10, 6))\n",
        "    sns.countplot(y='predicted_subreddit', data=high_confidence)\n",
        "    plt.title('Distribution of High Confidence (>=80%) Predictions')\n",
        "    plt.xlabel('Count')\n",
        "    plt.ylabel('Predicted Subreddit')\n",
        "    plt.tight_layout()\n",
        "    plt.show()"
      ]
    },
    {
      "cell_type": "code",
      "execution_count": null,
      "id": "QhxGrxNMbXwn",
      "metadata": {
        "id": "QhxGrxNMbXwn"
      },
      "outputs": [],
      "source": [
        "SAVE_PATH = os.path.join(os.path.dirname(os.getcwd()), 'classifications', 'ensemble_classification.csv')\n",
        "mentalhealth_df.to_csv(SAVE_PATH, index=False)"
      ]
    }
  ],
  "metadata": {
    "colab": {
      "provenance": []
    },
    "kernelspec": {
      "display_name": "venv",
      "language": "python",
      "name": "python3"
    },
    "language_info": {
      "name": "python",
      "version": "3.12.3"
    }
  },
  "nbformat": 4,
  "nbformat_minor": 5
}
